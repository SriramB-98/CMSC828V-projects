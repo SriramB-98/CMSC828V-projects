{
 "cells": [
  {
   "cell_type": "code",
   "execution_count": 1,
   "metadata": {},
   "outputs": [],
   "source": [
    "import numpy as np\n",
    "from mpmath import polylog\n",
    "import matplotlib.pyplot as plt\n",
    "import pandas as pd\n",
    "import networkx as nx\n",
    "from networkx import average_shortest_path_length\n",
    "from scipy.optimize import fsolve"
   ]
  },
  {
   "cell_type": "markdown",
   "metadata": {},
   "source": [
    "##### Download the data for the LastFM Asia Social Network from http://snap.stanford.edu/data/feather-lastfm-social.html. All you need is the file with edges. Note that node indices start with 0."
   ]
  },
  {
   "cell_type": "code",
   "execution_count": 2,
   "metadata": {},
   "outputs": [],
   "source": [
    "edge_list = pd.read_csv('./lastfm_asia_edges.csv').to_numpy()\n",
    "\n",
    "def load_graph(edge_list):\n",
    "    num_nodes = edge_list.max() + 1\n",
    "    graph = [list() for _ in range(num_nodes)]\n",
    "    for a, b, in edge_list:\n",
    "        graph[a].append(b)\n",
    "        graph[b].append(a)\n",
    "    return graph\n",
    "\n",
    "graph = load_graph(edge_list)\n",
    "nx_graph = nx.from_edgelist(edge_list)"
   ]
  },
  {
   "cell_type": "markdown",
   "metadata": {},
   "source": [
    "##### What is the number of connected components of this network, and what are their sizes?"
   ]
  },
  {
   "cell_type": "code",
   "execution_count": 3,
   "metadata": {},
   "outputs": [
    {
     "name": "stdout",
     "output_type": "stream",
     "text": [
      "The connected component sizes are  [7624]\n"
     ]
    }
   ],
   "source": [
    "def dfs(graph, i):\n",
    "    nodes = [i]\n",
    "    done = set([i])\n",
    "    while nodes:\n",
    "        next_nodes = [n for n in graph[nodes.pop()] if n not in done]\n",
    "        nodes.extend(next_nodes)\n",
    "        done = done.union(next_nodes)\n",
    "    return list(done)\n",
    "\n",
    "def get_connected_comps(graph):\n",
    "    all_nodes = set(range(len(graph)))\n",
    "    comp_sizes = []\n",
    "    while all_nodes:\n",
    "        comp = dfs(graph, all_nodes.pop())\n",
    "        all_nodes = all_nodes.difference(comp)\n",
    "        comp_sizes.append(len(comp))\n",
    "    return comp_sizes\n",
    "\n",
    "comp_sizes = get_connected_comps(graph)\n",
    "print(\"The connected component sizes are \", comp_sizes)"
   ]
  },
  {
   "cell_type": "markdown",
   "metadata": {},
   "source": [
    "##### Find the degree distribution for this network. "
   ]
  },
  {
   "cell_type": "code",
   "execution_count": 4,
   "metadata": {},
   "outputs": [
    {
     "name": "stdout",
     "output_type": "stream",
     "text": [
      "The degree distribution is :\n"
     ]
    },
    {
     "data": {
      "text/html": [
       "<div>\n",
       "<style scoped>\n",
       "    .dataframe tbody tr th:only-of-type {\n",
       "        vertical-align: middle;\n",
       "    }\n",
       "\n",
       "    .dataframe tbody tr th {\n",
       "        vertical-align: top;\n",
       "    }\n",
       "\n",
       "    .dataframe thead th {\n",
       "        text-align: right;\n",
       "    }\n",
       "</style>\n",
       "<table border=\"1\" class=\"dataframe\">\n",
       "  <thead>\n",
       "    <tr style=\"text-align: right;\">\n",
       "      <th></th>\n",
       "      <th>k</th>\n",
       "      <th>p_k</th>\n",
       "    </tr>\n",
       "  </thead>\n",
       "  <tbody>\n",
       "    <tr>\n",
       "      <th>0</th>\n",
       "      <td>1.0</td>\n",
       "      <td>0.230063</td>\n",
       "    </tr>\n",
       "    <tr>\n",
       "      <th>1</th>\n",
       "      <td>2.0</td>\n",
       "      <td>0.155824</td>\n",
       "    </tr>\n",
       "    <tr>\n",
       "      <th>2</th>\n",
       "      <td>3.0</td>\n",
       "      <td>0.103751</td>\n",
       "    </tr>\n",
       "    <tr>\n",
       "      <th>3</th>\n",
       "      <td>4.0</td>\n",
       "      <td>0.081191</td>\n",
       "    </tr>\n",
       "    <tr>\n",
       "      <th>4</th>\n",
       "      <td>5.0</td>\n",
       "      <td>0.060860</td>\n",
       "    </tr>\n",
       "    <tr>\n",
       "      <th>...</th>\n",
       "      <td>...</td>\n",
       "      <td>...</td>\n",
       "    </tr>\n",
       "    <tr>\n",
       "      <th>93</th>\n",
       "      <td>159.0</td>\n",
       "      <td>0.000131</td>\n",
       "    </tr>\n",
       "    <tr>\n",
       "      <th>94</th>\n",
       "      <td>172.0</td>\n",
       "      <td>0.000131</td>\n",
       "    </tr>\n",
       "    <tr>\n",
       "      <th>95</th>\n",
       "      <td>174.0</td>\n",
       "      <td>0.000131</td>\n",
       "    </tr>\n",
       "    <tr>\n",
       "      <th>96</th>\n",
       "      <td>175.0</td>\n",
       "      <td>0.000131</td>\n",
       "    </tr>\n",
       "    <tr>\n",
       "      <th>97</th>\n",
       "      <td>216.0</td>\n",
       "      <td>0.000131</td>\n",
       "    </tr>\n",
       "  </tbody>\n",
       "</table>\n",
       "<p>98 rows × 2 columns</p>\n",
       "</div>"
      ],
      "text/plain": [
       "        k       p_k\n",
       "0     1.0  0.230063\n",
       "1     2.0  0.155824\n",
       "2     3.0  0.103751\n",
       "3     4.0  0.081191\n",
       "4     5.0  0.060860\n",
       "..    ...       ...\n",
       "93  159.0  0.000131\n",
       "94  172.0  0.000131\n",
       "95  174.0  0.000131\n",
       "96  175.0  0.000131\n",
       "97  216.0  0.000131\n",
       "\n",
       "[98 rows x 2 columns]"
      ]
     },
     "execution_count": 4,
     "metadata": {},
     "output_type": "execute_result"
    }
   ],
   "source": [
    "degrees = [len(x) for x in graph]\n",
    "ks, pks = np.unique(degrees , return_counts=True)\n",
    "pks = pks/np.sum(pks)\n",
    "print(\"The degree distribution is :\")\n",
    "pd.DataFrame(np.stack([np.array(ks), np.array(pks)], axis=-1), columns=['k', 'p_k'])"
   ]
  },
  {
   "cell_type": "code",
   "execution_count": 5,
   "metadata": {},
   "outputs": [
    {
     "name": "stdout",
     "output_type": "stream",
     "text": [
      "[1]\n",
      "[2 3]\n",
      "[4 5 6 7]\n",
      "[ 8  9 10 11 12 13 14 15]\n",
      "[16 17 18 19 20 21 22 23 24 25 26 27 28 29 30 31]\n",
      "[32 33 34 35 36 37 38 39 40 41 42 43 44 45 46 47 48 50 51 52 53 54 55 56\n",
      " 57 58 59 60 61 62 63]\n",
      "[ 64  65  66  67  69  71  72  73  74  75  76  77  78  79  80  81  84  87\n",
      "  89  90  94  98 100 102 104 106 108 113 119]\n"
     ]
    },
    {
     "data": {
      "image/png": "[encoded data removed]",
      "text/plain": [
       "<Figure size 432x288 with 1 Axes>"
      ]
     },
     "metadata": {
      "needs_background": "light"
     },
     "output_type": "display_data"
    }
   ],
   "source": [
    "plt.plot(ks, pks, label='normal')\n",
    "\n",
    "logk_max = int(np.log2(ks[-1])) +1\n",
    "logk_bins = np.power(2, np.arange(logk_max+1))\n",
    "bin_indices = [0]\n",
    "ind = 0\n",
    "for i,k in enumerate(ks):\n",
    "    try:\n",
    "        if k > logk_bins[ind]:\n",
    "            bin_indices.append(i)\n",
    "            ind += 1\n",
    "    except:\n",
    "        break\n",
    "\n",
    "ks_logbinned, pks_logbinned = [], []\n",
    "\n",
    "for i in range(logk_max):\n",
    "    rel_ks = ks[ max(bin_indices[i]-1, 0) : bin_indices[i+1]-1 ]\n",
    "    if len(rel_ks) == 0:\n",
    "        continue\n",
    "    print(rel_ks)\n",
    "    rel_pks = pks[ max(bin_indices[i]-1, 0) :bin_indices[i+1]-1]\n",
    "    ks_logbinned.append(np.sum(rel_ks*rel_pks)/np.sum(rel_pks))\n",
    "    pks_logbinned.append(np.sum(rel_pks)/max(2**(i-1), 1))\n",
    "\n",
    "plt.plot(ks_logbinned, pks_logbinned, 'r.', label='log-binned')\n",
    "\n",
    "plt.xscale('log')\n",
    "plt.yscale('log')\n",
    "plt.xlabel('$k$')\n",
    "plt.ylabel('$p_k$')\n",
    "plt.legend()\n",
    "plt.show()"
   ]
  },
  {
   "cell_type": "code",
   "execution_count": 6,
   "metadata": {},
   "outputs": [
    {
     "data": {
      "text/plain": [
       "[0, 1, 2, 4, 8, 16, 32, 63, 92]"
      ]
     },
     "execution_count": 6,
     "metadata": {},
     "output_type": "execute_result"
    }
   ],
   "source": [
    "bin_indices"
   ]
  },
  {
   "cell_type": "markdown",
   "metadata": {},
   "source": [
    "##### Approximate the log-binning data for the degree distribution with the power-law with exponential cut-off: $p_k = Ce^{-\\alpha k}k^{-\\tau}$,\n",
    "\n",
    "###### Taking $\\log$ on both sides and rearranging, we have $\\log p_k = \\log C -\\alpha k -\\tau \\log k$"
   ]
  },
  {
   "cell_type": "code",
   "execution_count": 7,
   "metadata": {},
   "outputs": [
    {
     "name": "stdout",
     "output_type": "stream",
     "text": [
      "C: 0.30144549839867096 alpha: 0.04570253289377703 tau: 0.9837368619742366\n"
     ]
    },
    {
     "name": "stderr",
     "output_type": "stream",
     "text": [
      "<ipython-input-7-e48895113290>:3: FutureWarning: `rcond` parameter will change to the default of machine precision times ``max(M, N)`` where M and N are the input matrix dimensions.\n",
      "To use the future default and silence this warning we advise to pass `rcond=None`, to keep using the old, explicitly pass `rcond=-1`.\n",
      "  (alpha, tau, logc), _, _, _ = np.linalg.lstsq(x, y)\n"
     ]
    }
   ],
   "source": [
    "y = np.log(np.array(pks_logbinned))\n",
    "x = np.stack((-np.array(ks_logbinned), -np.log(np.array(ks_logbinned)), np.ones(len(y)) ), axis=-1)\n",
    "(alpha, tau, logc), _, _, _ = np.linalg.lstsq(x, y)\n",
    "c = np.exp(logc)\n",
    "print(\"C:\", c, \"alpha:\", alpha, \"tau:\", tau)"
   ]
  },
  {
   "cell_type": "code",
   "execution_count": 8,
   "metadata": {},
   "outputs": [
    {
     "data": {
      "image/png": "[encoded data removed]",
      "text/plain": [
       "<Figure size 432x288 with 1 Axes>"
      ]
     },
     "metadata": {
      "needs_background": "light"
     },
     "output_type": "display_data"
    }
   ],
   "source": [
    "def pk_estimate(k):\n",
    "    return c*np.exp(-alpha*k)*k**(-tau)\n",
    "\n",
    "plt.plot(ks, pks, label='Linear-binned')\n",
    "plt.plot(ks_logbinned, pks_logbinned, 'r.', label='Log-binned')\n",
    "plt.plot(np.arange(1, 128), pk_estimate(np.arange(1, 128)), label='Estimated')\n",
    "plt.xscale('log')\n",
    "plt.yscale('log')\n",
    "plt.xlabel('$k$')\n",
    "plt.ylabel('$p_k$')\n",
    "plt.legend()\n",
    "plt.savefig('./pk_vs_k.png', bbox_inches='tight')\n",
    "plt.show()\n"
   ]
  },
  {
   "cell_type": "code",
   "execution_count": 9,
   "metadata": {},
   "outputs": [
    {
     "name": "stdout",
     "output_type": "stream",
     "text": [
      "7624\n"
     ]
    }
   ],
   "source": [
    "pks_rand = np.array([pk_estimate(k) for k in range(1,100)])\n",
    "pks_rand = pks_rand/pks_rand.sum()\n",
    "def generate_rand_graph(degrees):\n",
    "    nodes = np.arange(len(degrees))\n",
    "    num_edges = sum(degrees)/2\n",
    "    edge_list = set([])\n",
    "    while num_edges > 0:\n",
    "        edge = tuple(np.random.choice(nodes, replace=False, p=degrees/(2*num_edges), size=2))\n",
    "        #print(num_edges, len(edge_list))\n",
    "        if edge in edge_list:\n",
    "            continue\n",
    "        edge_list.add(edge)\n",
    "        degrees[edge[0]] -= 1\n",
    "        degrees[edge[1]] -= 1\n",
    "        assert degrees[edge[0]] >= 0\n",
    "        num_edges -= 1\n",
    "    return edge_list\n",
    "print(len(graph))\n",
    "degrees = np.random.choice(np.arange(1, 100), p=pks_rand, size=len(graph))\n",
    "assert sum(degrees)%2 == 0\n",
    "rand_edge_list = list(generate_rand_graph(degrees))\n",
    "\n",
    "# rand_graph = load_graph(np.array(rand_edge_list))\n",
    "# rand_nx_graph = nx.from_edgelist(rand_edge_list)\n",
    "# largest_cc = rand_nx_graph.subgraph(max(nx.connected_components(rand_nx_graph), key=len)).copy()\n",
    "# print(len(largest_cc.nodes()))\n",
    "# rand_aspl = average_shortest_path_length(largest_cc)\n",
    "\n",
    "# print(rand_aspl)\n",
    "# print(clustering_coefficient(rand_graph))\n",
    "# print(np.mean([d for _, d in largest_cc.degree()]))\n",
    "# print(np.mean([d**2 for _, d in largest_cc.degree()]) - np.mean([d for _, d in largest_cc.degree()]))\n",
    "\n",
    "# nodes = largest_cc.nodes()\n",
    "# ls = []\n",
    "# for _ in range(1000):\n",
    "#     n, m = np.random.choice(nodes, size=2)\n",
    "#     ls.append(nx.shortest_path_length(largest_cc, source = n, target = m))\n",
    "# print(np.mean(ls))"
   ]
  },
  {
   "cell_type": "markdown",
   "metadata": {},
   "source": [
    "##### Find the average shortest-path length in the actual network and compare with estimated average shortest-path length for the random graph "
   ]
  },
  {
   "cell_type": "code",
   "execution_count": 10,
   "metadata": {},
   "outputs": [],
   "source": [
    "aspl = average_shortest_path_length(nx_graph)\n"
   ]
  },
  {
   "cell_type": "code",
   "execution_count": 11,
   "metadata": {},
   "outputs": [
    {
     "name": "stdout",
     "output_type": "stream",
     "text": [
      "Actual avg shortest path length: 5.232237268915701\n",
      "Avg shortest path length in a random graph: 3.2551040484684255\n"
     ]
    }
   ],
   "source": [
    "\n",
    "z1 = float(polylog(tau-1, np.exp(-alpha))/polylog(tau, np.exp(-alpha)))\n",
    "z2 = float((polylog(tau-2, np.exp(-alpha)) - polylog(tau-1, np.exp(-alpha)))/polylog(tau, np.exp(-alpha)))\n",
    "N = len(graph)\n",
    "# z1 = 6.821790090570059\n",
    "# z2 = 136.4714970697922\n",
    "# N = len(largest_cc.nodes())\n",
    "l1 = 1 + (np.log(N) - np.log(z1))/np.log(z2/z1)\n",
    "l2 = (np.log((N-1)*(z2 - z1) + z1*z1) - np.log(z1*z1))/(np.log(z2/z1))\n",
    "\n",
    "print(\"Actual avg shortest path length:\", aspl)\n",
    "print(\"Avg shortest path length in a random graph:\", l2)"
   ]
  },
  {
   "cell_type": "code",
   "execution_count": 12,
   "metadata": {},
   "outputs": [
    {
     "data": {
      "text/plain": [
       "7624"
      ]
     },
     "execution_count": 12,
     "metadata": {},
     "output_type": "execute_result"
    }
   ],
   "source": [
    "N"
   ]
  },
  {
   "cell_type": "markdown",
   "metadata": {},
   "source": [
    "##### Find the clustering coefficient of the network"
   ]
  },
  {
   "cell_type": "code",
   "execution_count": 13,
   "metadata": {},
   "outputs": [
    {
     "name": "stdout",
     "output_type": "stream",
     "text": [
      "Estimated clustering coefficient for actual graph is  0.178622548153384\n",
      "Estimated clustering coefficient for random graph is  0.00879049028000804\n"
     ]
    }
   ],
   "source": [
    "def clustering_coefficient(graph):\n",
    "    num_triangles = 0\n",
    "    total = 0\n",
    "    for i in range(len(graph)):\n",
    "        for jind, j in enumerate(graph[i]):\n",
    "            for k in graph[i][:jind]:\n",
    "                if k in graph[j]:\n",
    "                    num_triangles += 1\n",
    "                total += 1\n",
    "    return num_triangles/total\n",
    "\n",
    "print(\"Estimated clustering coefficient for actual graph is \", clustering_coefficient(graph))\n",
    "\n",
    "print(\"Estimated clustering coefficient for random graph is \",(z2)**2/(N*z1**3))"
   ]
  },
  {
   "cell_type": "markdown",
   "metadata": {},
   "source": [
    "##### What is the critical transmissibility $T_c$ of the actual graph? "
   ]
  },
  {
   "cell_type": "code",
   "execution_count": 14,
   "metadata": {},
   "outputs": [
    {
     "name": "stdout",
     "output_type": "stream",
     "text": [
      "Critical transmissibility is 0.04094657477764034\n"
     ]
    }
   ],
   "source": [
    "k = np.mean([len(x) for x in graph])\n",
    "k2 = np.mean([len(x)**2 for x in graph])\n",
    "print(\"Critical transmissibility is\", k/(k2 - k))"
   ]
  },
  {
   "cell_type": "markdown",
   "metadata": {},
   "source": [
    "##### Run the SIR model on the actual network with $T = 0.4$"
   ]
  },
  {
   "cell_type": "code",
   "execution_count": 44,
   "metadata": {},
   "outputs": [],
   "source": [
    "all_runs = []\n",
    "T = 0.4\n",
    "V = 0#1 - (k/(k2 - k))/0.4 - 0.05\n",
    "# T = T*(1-V)\n",
    "# V=0\n",
    "for _ in range(10):\n",
    "    trans_edge_inds = np.random.choice(np.arange(len(edge_list)), size=int(T*len(edge_list)), replace=False)\n",
    "    vacc_nodes = np.random.choice(np.arange(N), size=int(V*N), replace=False)\n",
    "    trans_edge_list = np.array([(a,b) for a,b in np.array(edge_list)[trans_edge_inds] if a not in vacc_nodes and b not in vacc_nodes])\n",
    "    trans_graph = load_graph(trans_edge_list)\n",
    "    valid_nodes = [i for i in range(len(trans_graph)) if trans_graph[i]]\n",
    "\n",
    "    start_node = np.random.choice(valid_nodes)\n",
    "    infected = [start_node]\n",
    "    recovered = []\n",
    "\n",
    "    num_infected = []\n",
    "    for i in range(20):\n",
    "        next_infected = []\n",
    "        for node in infected:\n",
    "            next_infected.extend([x for x in trans_graph[node] if x not in recovered and x not in infected and x not in next_infected])\n",
    "        recovered.extend(infected)\n",
    "        num_infected.append(len(infected))\n",
    "        infected = next_infected\n",
    "    all_runs.append((num_infected, len(graph)))"
   ]
  },
  {
   "cell_type": "code",
   "execution_count": 45,
   "metadata": {},
   "outputs": [
    {
     "data": {
      "image/png": "[encoded data removed]",
      "text/plain": [
       "<Figure size 432x288 with 1 Axes>"
      ]
     },
     "metadata": {
      "needs_background": "light"
     },
     "output_type": "display_data"
    }
   ],
   "source": [
    "for i, (num_infected, num_nodes) in enumerate(all_runs):    \n",
    "    plt.plot(np.array(num_infected), label='Run '+str(i))\n",
    "\n",
    "plt.xticks(np.arange(20))\n",
    "plt.xlabel('Time steps')\n",
    "plt.ylabel('Number of sick nodes')\n",
    "plt.legend()\n",
    "# plt.savefig('./random_SIR_runs.png', bbox_inches='tight')\n",
    "plt.show()"
   ]
  },
  {
   "cell_type": "code",
   "execution_count": 32,
   "metadata": {},
   "outputs": [
    {
     "name": "stdout",
     "output_type": "stream",
     "text": [
      "The fraction of affected nodes for all 10 runs are: [0.699, 0.703, 0.7053, 0.7003, 0.7042, 0.6999, 0.0004, 0.0005, 0.7046, 0.7148]\n"
     ]
    }
   ],
   "source": [
    "max_fraction = [np.round(np.array(num_infected).sum()/num_nodes, 4) for (num_infected, num_nodes) in all_runs]\n",
    "print(\"The fraction of affected nodes for all 10 runs are:\", str(max_fraction))"
   ]
  },
  {
   "cell_type": "code",
   "execution_count": 33,
   "metadata": {},
   "outputs": [
    {
     "name": "stdout",
     "output_type": "stream",
     "text": [
      "The mean and std of the fraction of affected nodes during epidemics is 0.7038875 and 0.00467879191138055\n"
     ]
    }
   ],
   "source": [
    "print(\"The mean and std of the fraction of affected nodes during epidemics is\", np.mean([x for x in max_fraction if x > 0.1]), \"and\", np.std([x for x in max_fraction if x > 0.1]) )"
   ]
  },
  {
   "cell_type": "markdown",
   "metadata": {},
   "source": [
    "##### SIR model for random graph"
   ]
  },
  {
   "cell_type": "code",
   "execution_count": 20,
   "metadata": {},
   "outputs": [
    {
     "name": "stdout",
     "output_type": "stream",
     "text": [
      "Critical transmissibility for random graph is  0.04605580078735898\n"
     ]
    }
   ],
   "source": [
    "print(\"Critical transmissibility for random graph is \", z1/z2)"
   ]
  },
  {
   "cell_type": "code",
   "execution_count": 21,
   "metadata": {},
   "outputs": [
    {
     "name": "stdout",
     "output_type": "stream",
     "text": [
      "Numerical solution is  0.11289780599935306\n"
     ]
    }
   ],
   "source": [
    "T = 0.4\n",
    "def f(hv):\n",
    "    l = [float(polylog(tau-1, (1 + T*(h-1))*np.exp(-alpha) )/((1 + T*(h-1))* polylog(tau-1, np.exp(-alpha) ))) - h for h in hv]\n",
    "    return l\n",
    "# xvals = np.arange(1000)/1000\n",
    "# yvals =  f(xvals)\n",
    "# plt.plot(xvals, yvals)\n",
    "# plt.plot(xvals, xvals)\n",
    "\n",
    "guess = 0.1\n",
    "sol = fsolve(f, guess)[0]\n",
    "print(\"Numerical solution is \", sol)"
   ]
  },
  {
   "cell_type": "code",
   "execution_count": 22,
   "metadata": {},
   "outputs": [
    {
     "name": "stdout",
     "output_type": "stream",
     "text": [
      "Fraction of nodes infected in epidemic is  0.6962724276306023\n"
     ]
    }
   ],
   "source": [
    "def G0(x):\n",
    "    return float(polylog(tau, x*np.exp(-alpha) )/polylog(tau, np.exp(-alpha) ) )\n",
    "print(\"Fraction of nodes infected in epidemic is \", 1 - G0(0.4*(sol-1) + 1))"
   ]
  },
  {
   "cell_type": "code",
   "execution_count": 28,
   "metadata": {},
   "outputs": [
    {
     "data": {
      "text/plain": [
       "0.88475"
      ]
     },
     "execution_count": 28,
     "metadata": {},
     "output_type": "execute_result"
    }
   ],
   "source": [
    "1 - 0.0461/0.4"
   ]
  },
  {
   "cell_type": "code",
   "execution_count": 25,
   "metadata": {},
   "outputs": [
    {
     "data": {
      "text/plain": [
       "7624"
      ]
     },
     "execution_count": 25,
     "metadata": {},
     "output_type": "execute_result"
    }
   ],
   "source": [
    "N"
   ]
  }
 ],
 "metadata": {
  "interpreter": {
   "hash": "a6c8cccf23fc189a51b8b2ae4ca3b98de763e12cce4f9033fe8d82721c91cecc"
  },
  "kernelspec": {
   "display_name": "Python 3.8.8 64-bit ('base': conda)",
   "language": "python",
   "name": "python3"
  },
  "language_info": {
   "codemirror_mode": {
    "name": "ipython",
    "version": 3
   },
   "file_extension": ".py",
   "mimetype": "text/x-python",
   "name": "python",
   "nbconvert_exporter": "python",
   "pygments_lexer": "ipython3",
   "version": "3.8.8"
  },
  "orig_nbformat": 4
 },
 "nbformat": 4,
 "nbformat_minor": 2
}
