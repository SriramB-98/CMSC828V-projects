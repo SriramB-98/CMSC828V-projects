{
 "cells": [
  {
   "cell_type": "code",
   "execution_count": 1,
   "metadata": {},
   "outputs": [],
   "source": [
    "import numpy as np  \n",
    "import scipy.io as sio\n",
    "from scipy import linalg\n",
    "import matplotlib.pyplot as plt"
   ]
  },
  {
   "cell_type": "code",
   "execution_count": 30,
   "id": "ef484937",
   "metadata": {},
   "outputs": [],
   "source": [
    "from scipy.io import loadmat\n",
    "M = np.array(loadmat('M.mat')['M']).astype(int)\n",
    "Mcounts = np.array(loadmat('Mcounts.mat')['Mcounts']).astype(int)\n",
    "y = np.array(loadmat('y.mat')['y'])\n",
    "words = np.array(loadmat('words.mat')['words']).flatten()"
   ]
  },
  {
   "cell_type": "code",
   "execution_count": 45,
   "id": "711ee727",
   "metadata": {},
   "outputs": [],
   "source": [
    "class1_bool = (y == 1).flatten()\n",
    "class2_bool = (y == -1).flatten()\n",
    "class1_freq = np.sum(M[class1_bool, :], axis=0)/len(class1_bool)\n",
    "class2_freq = np.sum(M[class2_bool, :], axis=0)/len(class2_bool)\n",
    "information_gain =np.abs(class1_freq - class2_freq)"
   ]
  },
  {
   "cell_type": "code",
   "execution_count": 86,
   "id": "bde3554d",
   "metadata": {},
   "outputs": [
    {
     "data": {
      "text/plain": [
       "71"
      ]
     },
     "execution_count": 86,
     "metadata": {},
     "output_type": "execute_result"
    }
   ],
   "source": [
    "np.sum(class2_bool)"
   ]
  },
  {
   "cell_type": "code",
   "execution_count": 48,
   "metadata": {},
   "outputs": [],
   "source": [
    "def CUR(A, W, Vh, c, k, r):\n",
    "    # A: input m x n array\n",
    "    # W: The matrix of left singular vectors for A, m x rank(A) array\n",
    "    # Vh: The matrix of right singular vectors for A, rankd(A) x n array\n",
    "    # c, r: parameters for column/row selection likelihood\n",
    "    # k: rank for choosing the rank-truncated SVD\n",
    "\n",
    "    # Pick k highest left singular vectors\n",
    "    Vk = Vh[0:k, :]\n",
    "    Uk = W[:, 0:k]\n",
    "\n",
    "    # Randomly select columns, rows with high statistical leverage\n",
    "    [C, column_leverage] = columnselect(A, Vk, k, c)\n",
    "    [R, row_leverage] = columnselect(A.T, Uk.T, k, r)\n",
    "    R = R.T\n",
    "\n",
    "    # Compute U\n",
    "    Cinv = linalg.pinv(C)\n",
    "    Rinv = linalg.pinv(R)\n",
    "    U = np.dot(Cinv, np.dot(A, Rinv))\n",
    "\n",
    "    return [C, U, R, column_leverage, row_leverage]\n",
    "\n",
    "def columnselect(A, Vk, k, c):\n",
    "    \n",
    "    # Compute leverage scores\n",
    "    leverage = (1/k)*np.sum(Vk**2, axis=0)\n",
    "    \n",
    "    # Randomyly pick columns to keep (according to leverage) \n",
    "    #keep_bool = np.zeros(A.shape[1], dtype=bool)\n",
    "    uniform = np.random.uniform(0, 1, A.shape[1])\n",
    "    keep_prob = np.minimum(1, c*leverage)\n",
    "    keep_bool = uniform < keep_prob\n",
    "        \n",
    "    # If no columns chosen, choose the one with highest leverage\n",
    "    if np.all(~keep_bool):\n",
    "        j = np.argmax(leverage)\n",
    "        keep_bool[j] = True\n",
    "\n",
    "    Areduced = A[:, keep_bool]\n",
    "\n",
    "    return [Areduced, leverage]\n",
    "\n",
    "\n",
    "def getLeverage( W, Vh, k):\n",
    "        # Pick k highest left singular vectors\n",
    "    Vk = Vh[0:k, :]\n",
    "    Uk = W[:, 0:k].T  \n",
    "    # Compute leverage scores\n",
    "    column_leverage = (1/k)*np.sum(Vk**2, axis=0)\n",
    "    row_leverage = (1/k)*np.sum(Uk**2, axis=0)\n",
    "\n",
    "    return [column_leverage, row_leverage]"
   ]
  },
  {
   "cell_type": "code",
   "execution_count": 62,
   "id": "a6f81ccf",
   "metadata": {},
   "outputs": [
    {
     "name": "stdout",
     "output_type": "stream",
     "text": [
      "The top 5 information gain words are:\n",
      "{'indiana', 'florida', 'south', 'miami', 'evansville'}\n"
     ]
    }
   ],
   "source": [
    "print(\"The top 5 information gain words are:\")\n",
    "sorted_idx = np.argsort(-information_gain)\n",
    "top5_ig_words = set([w[0] for w in words[sorted_idx[0:5]]])\n",
    "print(top5_ig_words)"
   ]
  },
  {
   "cell_type": "code",
   "execution_count": 131,
   "id": "5b9acf9b",
   "metadata": {},
   "outputs": [],
   "source": [
    "preM = M.copy()\n",
    "preM = preM + 50*np.dot(y.transpose(), preM)/(np.linalg.norm(y)*np.linalg.norm(preM))\n",
    "U,S,Vh = linalg.svd(preM,compute_uv=True,full_matrices=False)\n",
    "col_leverage, row_leverage = getLeverage(U, Vh, 20)"
   ]
  },
  {
   "cell_type": "code",
   "execution_count": 132,
   "id": "3ce59ef8",
   "metadata": {},
   "outputs": [
    {
     "name": "stdout",
     "output_type": "stream",
     "text": [
      "{'contact', 'welcome', 'south', 'miami', 'company', 'indiana', 'jpg', 'click', 'service', 'provide', '812', 'page', 'services', 'evansville', 'information', 'florida', 'the', 'phone', 'and', 'gif'}\n"
     ]
    }
   ],
   "source": [
    "lev_sorted_idx = np.argsort(-col_leverage)\n",
    "\n",
    "top20_lev_words = set([w[0] for w in words[lev_sorted_idx[0:20]]])\n",
    "print(top20_lev_words)"
   ]
  },
  {
   "cell_type": "code",
   "execution_count": 133,
   "id": "229bb367",
   "metadata": {},
   "outputs": [
    {
     "data": {
      "text/plain": [
       "set()"
      ]
     },
     "execution_count": 133,
     "metadata": {},
     "output_type": "execute_result"
    }
   ],
   "source": [
    "top5_ig_words - top20_lev_words"
   ]
  }
 ],
 "metadata": {
  "interpreter": {
   "hash": "a6c8cccf23fc189a51b8b2ae4ca3b98de763e12cce4f9033fe8d82721c91cecc"
  },
  "kernelspec": {
   "display_name": "Python 3.8.8 64-bit ('base': conda)",
   "name": "python3"
  },
  "language_info": {
   "codemirror_mode": {
    "name": "ipython",
    "version": 3
   },
   "file_extension": ".py",
   "mimetype": "text/x-python",
   "name": "python",
   "nbconvert_exporter": "python",
   "pygments_lexer": "ipython3",
   "version": "3.8.8"
  }
 },
 "nbformat": 4,
 "nbformat_minor": 5
}
